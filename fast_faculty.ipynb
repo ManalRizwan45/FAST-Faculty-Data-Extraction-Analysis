{
 "cells": [
  {
   "cell_type": "code",
   "execution_count": 10,
   "id": "4bc9df94",
   "metadata": {},
   "outputs": [],
   "source": [
    "import pandas as pd\n"
   ]
  },
  {
   "cell_type": "code",
   "execution_count": 11,
   "id": "b28f1555",
   "metadata": {
    "scrolled": true
   },
   "outputs": [
    {
     "name": "stdout",
     "output_type": "stream",
     "text": [
      "ID                              int64\n",
      "Name                           object\n",
      "Designation                    object\n",
      "HEC Approved PHD Supervisor      bool\n",
      "Highest Education              object\n",
      "Email                          object\n",
      "Department                     object\n",
      "Extension                       int64\n",
      "ImageURL                       object\n",
      "dtype: object\n"
     ]
    }
   ],
   "source": [
    "# reading the lahore campus dataframe and storing it\n",
    "lhr_df = pd.read_csv('lhr.csv')\n",
    "lhr_df.drop('Unnamed: 0' , axis = 1 ,inplace=True)\n",
    "print(lhr_df.dtypes)"
   ]
  },
  {
   "cell_type": "code",
   "execution_count": 12,
   "id": "385fa34e",
   "metadata": {},
   "outputs": [
    {
     "name": "stdout",
     "output_type": "stream",
     "text": [
      "ID                              int64\n",
      "Name                           object\n",
      "Designation                    object\n",
      "HEC Approved PHD Supervisor      bool\n",
      "Highest Education              object\n",
      "Email                          object\n",
      "Department                     object\n",
      "Extension                       int64\n",
      "ImageURL                       object\n",
      "dtype: object\n"
     ]
    }
   ],
   "source": [
    "# reading the islamabad campus dataframe and storing it\n",
    "isb_df = pd.read_csv('isb.csv')\n",
    "isb_df.drop('Unnamed: 0' , axis = 1 ,inplace=True)\n",
    "print(isb_df.dtypes)"
   ]
  },
  {
   "cell_type": "code",
   "execution_count": 13,
   "id": "4a2bfa51",
   "metadata": {},
   "outputs": [
    {
     "name": "stdout",
     "output_type": "stream",
     "text": [
      "ID                              int64\n",
      "Name                           object\n",
      "Designation                    object\n",
      "HEC Approved PHD Supervisor      bool\n",
      "Highest Education              object\n",
      "Email                          object\n",
      "Department                     object\n",
      "Extension                       int64\n",
      "ImageURL                       object\n",
      "dtype: object\n"
     ]
    }
   ],
   "source": [
    "# reading the Karachi campus dataframe and storing it\n",
    "khi_df = pd.read_csv('khi.csv')\n",
    "khi_df.drop('Unnamed: 0' , axis = 1 ,inplace=True)\n",
    "print(khi_df.dtypes)"
   ]
  },
  {
   "cell_type": "code",
   "execution_count": 14,
   "id": "119aa813",
   "metadata": {},
   "outputs": [
    {
     "name": "stdout",
     "output_type": "stream",
     "text": [
      "       ID                      Name          Designation  \\\n",
      "0    1238          Dr. Kashif Zafar      Professor & HOD   \n",
      "1    4391  Dr. Asif Mahmood Gillani            Professor   \n",
      "2    5424         Dr. Hammad Naveed            Professor   \n",
      "3    4027            Dr. Aamir Wali  Associate Professor   \n",
      "4    6174            Dr. Arshad Ali  Associate Professor   \n",
      "..    ...                       ...                  ...   \n",
      "128  7607          Ms. Sabeen Amjad             Lecturer   \n",
      "129  7610        Ms. Shahtaj Shakir             Lecturer   \n",
      "130  7614       Ms. Sharmeen Ismail             Lecturer   \n",
      "131  7617          Syed Waqar Ahmed             Lecturer   \n",
      "132  7620    Ms. Syeda Atifa Batool             Lecturer   \n",
      "\n",
      "     HEC Approved PHD Supervisor  \\\n",
      "0                           True   \n",
      "1                           True   \n",
      "2                           True   \n",
      "3                           True   \n",
      "4                           True   \n",
      "..                           ...   \n",
      "128                        False   \n",
      "129                        False   \n",
      "130                        False   \n",
      "131                        False   \n",
      "132                        False   \n",
      "\n",
      "                                     Highest Education  \\\n",
      "0      Ph.D(Computer Science), NUCES, Islamabad, Pa...   \n",
      "1      Ph.D(Computing), University of Patras , Gree...   \n",
      "2     Ph.D. (Bioengineering), The University of Ill...   \n",
      "3       PhD (CS), FAST-NUCES, Lahore, Pakistan (2019)    \n",
      "4      PhD (CS), University of Paris VI (UPMC) Pari...   \n",
      "..                                                 ...   \n",
      "128                 MS (App. Ling.), NED-UET, Karachi    \n",
      "129           MS (Psy.), Bahria University, Islamabad    \n",
      "130               MPhil (Eng.), University of Karachi    \n",
      "131                           MS (Phy.), LUMS, Lahore    \n",
      "132          MS (App. Ling.), NED University, Karachi    \n",
      "\n",
      "                         Email               Department  Extension  \\\n",
      "0       kashif.zafar@nu.edu.pk                Computing        221   \n",
      "1        asif.gilani@nu.edu.pk                Computing        291   \n",
      "2      hammad.naveed@nu.edu.pk                Computing        227   \n",
      "3         aamir.wali@nu.edu.pk                Computing        260   \n",
      "4        arshad.ali1@nu.edu.pk                Computing        406   \n",
      "..                         ...                      ...        ...   \n",
      "128     sabeen.amjad@nu.edu.pk  Sciences and Humanities        302   \n",
      "129     sabeen.amjad@nu.edu.pk  Sciences and Humanities        302   \n",
      "130  sharmeen.ismail@nu.edu.pk  Sciences and Humanities        251   \n",
      "131     swaqar.ahmed@nu.edu.pk  Sciences and Humanities        253   \n",
      "132     atifa.batool@nu.edu.pk  Sciences and Humanities        126   \n",
      "\n",
      "                                              ImageURL  \n",
      "0    https://lhr.nu.edu.pk/media/Faculty/02_-_Dr._K...  \n",
      "1    https://lhr.nu.edu.pk/media/Faculty/03_-_Dr._A...  \n",
      "2    https://lhr.nu.edu.pk/media/Faculty/01_-_Dr._H...  \n",
      "3    https://lhr.nu.edu.pk/media/Faculty/44_-_Dr._A...  \n",
      "4    https://lhr.nu.edu.pk/media/Faculty/04_-_Dr._A...  \n",
      "..                                                 ...  \n",
      "128  https://khi.nu.edu.pk/wp-content/uploads/2023/...  \n",
      "129  https://khi.nu.edu.pk/wp-content/uploads/2023/...  \n",
      "130  https://khi.nu.edu.pk/wp-content/uploads/2023/...  \n",
      "131  https://khi.nu.edu.pk/wp-content/uploads/2023/...  \n",
      "132  https://khi.nu.edu.pk/wp-content/uploads/2023/...  \n",
      "\n",
      "[517 rows x 9 columns]\n"
     ]
    }
   ],
   "source": [
    "# concatenating the lahore , islamabad and karachi dataframe and storing it\n",
    "fast_faculty = pd.concat([lhr_df,isb_df,khi_df])\n",
    "print(fast_faculty)"
   ]
  },
  {
   "cell_type": "code",
   "execution_count": 15,
   "id": "b61f3ad2",
   "metadata": {},
   "outputs": [],
   "source": [
    "# writing the dataframe to a file\n",
    "fast_faculty.to_csv('fast_faculty.csv')"
   ]
  },
  {
   "cell_type": "code",
   "execution_count": 16,
   "id": "b35d16d2",
   "metadata": {},
   "outputs": [
    {
     "name": "stdout",
     "output_type": "stream",
     "text": [
      "       ID                      Name          Designation  \\\n",
      "0    1238          Dr. Kashif Zafar      Professor & HOD   \n",
      "1    4391  Dr. Asif Mahmood Gillani            Professor   \n",
      "2    5424         Dr. Hammad Naveed            Professor   \n",
      "3    4027            Dr. Aamir Wali  Associate Professor   \n",
      "4    6174            Dr. Arshad Ali  Associate Professor   \n",
      "..    ...                       ...                  ...   \n",
      "512  7607          Ms. Sabeen Amjad             Lecturer   \n",
      "513  7610        Ms. Shahtaj Shakir             Lecturer   \n",
      "514  7614       Ms. Sharmeen Ismail             Lecturer   \n",
      "515  7617          Syed Waqar Ahmed             Lecturer   \n",
      "516  7620    Ms. Syeda Atifa Batool             Lecturer   \n",
      "\n",
      "     HEC Approved PHD Supervisor  \\\n",
      "0                           True   \n",
      "1                           True   \n",
      "2                           True   \n",
      "3                           True   \n",
      "4                           True   \n",
      "..                           ...   \n",
      "512                        False   \n",
      "513                        False   \n",
      "514                        False   \n",
      "515                        False   \n",
      "516                        False   \n",
      "\n",
      "                                     Highest Education  \\\n",
      "0      Ph.D(Computer Science), NUCES, Islamabad, Pa...   \n",
      "1      Ph.D(Computing), University of Patras , Gree...   \n",
      "2     Ph.D. (Bioengineering), The University of Ill...   \n",
      "3       PhD (CS), FAST-NUCES, Lahore, Pakistan (2019)    \n",
      "4      PhD (CS), University of Paris VI (UPMC) Pari...   \n",
      "..                                                 ...   \n",
      "512                 MS (App. Ling.), NED-UET, Karachi    \n",
      "513           MS (Psy.), Bahria University, Islamabad    \n",
      "514               MPhil (Eng.), University of Karachi    \n",
      "515                           MS (Phy.), LUMS, Lahore    \n",
      "516          MS (App. Ling.), NED University, Karachi    \n",
      "\n",
      "                         Email               Department  Extension  \\\n",
      "0       kashif.zafar@nu.edu.pk                Computing        221   \n",
      "1        asif.gilani@nu.edu.pk                Computing        291   \n",
      "2      hammad.naveed@nu.edu.pk                Computing        227   \n",
      "3         aamir.wali@nu.edu.pk                Computing        260   \n",
      "4        arshad.ali1@nu.edu.pk                Computing        406   \n",
      "..                         ...                      ...        ...   \n",
      "512     sabeen.amjad@nu.edu.pk  Sciences and Humanities        302   \n",
      "513     sabeen.amjad@nu.edu.pk  Sciences and Humanities        302   \n",
      "514  sharmeen.ismail@nu.edu.pk  Sciences and Humanities        251   \n",
      "515     swaqar.ahmed@nu.edu.pk  Sciences and Humanities        253   \n",
      "516     atifa.batool@nu.edu.pk  Sciences and Humanities        126   \n",
      "\n",
      "                                              ImageURL  \n",
      "0    https://lhr.nu.edu.pk/media/Faculty/02_-_Dr._K...  \n",
      "1    https://lhr.nu.edu.pk/media/Faculty/03_-_Dr._A...  \n",
      "2    https://lhr.nu.edu.pk/media/Faculty/01_-_Dr._H...  \n",
      "3    https://lhr.nu.edu.pk/media/Faculty/44_-_Dr._A...  \n",
      "4    https://lhr.nu.edu.pk/media/Faculty/04_-_Dr._A...  \n",
      "..                                                 ...  \n",
      "512  https://khi.nu.edu.pk/wp-content/uploads/2023/...  \n",
      "513  https://khi.nu.edu.pk/wp-content/uploads/2023/...  \n",
      "514  https://khi.nu.edu.pk/wp-content/uploads/2023/...  \n",
      "515  https://khi.nu.edu.pk/wp-content/uploads/2023/...  \n",
      "516  https://khi.nu.edu.pk/wp-content/uploads/2023/...  \n",
      "\n",
      "[517 rows x 9 columns]\n"
     ]
    }
   ],
   "source": [
    "# reading the fast_faculty dataframe \n",
    "faculty = pd.read_csv('fast_faculty.csv')\n",
    "faculty.drop('Unnamed: 0' , axis = 1 ,inplace=True)\n",
    "print(faculty)"
   ]
  },
  {
   "cell_type": "code",
   "execution_count": 17,
   "id": "9d1c1a06",
   "metadata": {},
   "outputs": [],
   "source": [
    "# using the sample method to create the sample dataframe\n",
    "sample_ = faculty.sample(frac=0.5)\n",
    "#print(sample_.ID.nunique())"
   ]
  },
  {
   "cell_type": "code",
   "execution_count": 18,
   "id": "f16bea1a",
   "metadata": {},
   "outputs": [],
   "source": [
    "# writing the sample dataframe to a file\n",
    "sample_.to_csv('sample.csv')"
   ]
  },
  {
   "cell_type": "code",
   "execution_count": null,
   "id": "df0fdf5b",
   "metadata": {},
   "outputs": [],
   "source": []
  }
 ],
 "metadata": {
  "kernelspec": {
   "display_name": "Python 3 (ipykernel)",
   "language": "python",
   "name": "python3"
  },
  "language_info": {
   "codemirror_mode": {
    "name": "ipython",
    "version": 3
   },
   "file_extension": ".py",
   "mimetype": "text/x-python",
   "name": "python",
   "nbconvert_exporter": "python",
   "pygments_lexer": "ipython3",
   "version": "3.11.4"
  }
 },
 "nbformat": 4,
 "nbformat_minor": 5
}
